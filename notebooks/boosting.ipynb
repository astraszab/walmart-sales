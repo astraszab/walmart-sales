{
 "cells": [
  {
   "cell_type": "code",
   "execution_count": 1,
   "id": "3abd9d30-93eb-4cc8-add7-9032bacc3a35",
   "metadata": {},
   "outputs": [],
   "source": [
    "from pathlib import Path\n",
    "\n",
    "from hyperopt import STATUS_OK, Trials, fmin, hp, tpe\n",
    "from lightgbm import LGBMRegressor\n",
    "import matplotlib.pyplot as plt\n",
    "import numpy as np\n",
    "import pandas as pd\n",
    "\n",
    "from walmart_sales.constants import PROCESSED_DATA_DIR, PROCESSED_DATA_FILE\n",
    "from walmart_sales.data import WalmartDataset, WalmartDataTransformer\n",
    "from walmart_sales.evaluation import validate, mape, smape, wape\n",
    "from walmart_sales.model import WalmartLGBM\n",
    "from walmart_sales.visualization import plot_forecast_vs_target"
   ]
  },
  {
   "cell_type": "code",
   "execution_count": 2,
   "id": "723198ec-5a26-4b56-87e5-d9e930775802",
   "metadata": {},
   "outputs": [],
   "source": [
    "df = pd.read_csv(Path(\"..\", PROCESSED_DATA_DIR, PROCESSED_DATA_FILE), parse_dates=[\"Date\"])"
   ]
  },
  {
   "cell_type": "code",
   "execution_count": 3,
   "id": "0a3aeb61-d081-4e4a-a432-c8ad0c39e10b",
   "metadata": {},
   "outputs": [],
   "source": [
    "dataset = WalmartDataset(df)\n",
    "transformer = WalmartDataTransformer()\n",
    "lgbm_regressor = LGBMRegressor()\n",
    "model = WalmartLGBM(lgbm_regressor, transformer)"
   ]
  },
  {
   "cell_type": "markdown",
   "id": "e78600bb-8d0c-47f4-949d-b1d2c7ae83e6",
   "metadata": {},
   "source": [
    "# Data"
   ]
  },
  {
   "cell_type": "code",
   "execution_count": 4,
   "id": "a053cdb5-e14a-4962-b2c0-6accb5d8ce01",
   "metadata": {},
   "outputs": [
    {
     "data": {
      "text/plain": [
       "1384594"
      ]
     },
     "execution_count": 4,
     "metadata": {},
     "output_type": "execute_result"
    }
   ],
   "source": [
    "len(dataset.full)"
   ]
  },
  {
   "cell_type": "code",
   "execution_count": 5,
   "id": "83586935-844d-4407-87ee-7a32e47fda80",
   "metadata": {},
   "outputs": [
    {
     "data": {
      "text/plain": [
       "['Store',\n",
       " 'Dept',\n",
       " 'lag_12',\n",
       " 'lag_11',\n",
       " 'lag_10',\n",
       " 'lag_9',\n",
       " 'lag_8',\n",
       " 'lag_7',\n",
       " 'lag_6',\n",
       " 'lag_5',\n",
       " 'lag_4',\n",
       " 'lag_3',\n",
       " 'lag_2',\n",
       " 'lag_1',\n",
       " 'horizon',\n",
       " 'target',\n",
       " 'forecast_week',\n",
       " 'targeted_week',\n",
       " 'IsHoliday',\n",
       " 'Type',\n",
       " 'Size',\n",
       " 'Temperature_lag_12',\n",
       " 'Temperature_lag_11',\n",
       " 'Temperature_lag_10',\n",
       " 'Temperature_lag_9',\n",
       " 'Temperature_lag_8',\n",
       " 'Temperature_lag_7',\n",
       " 'Temperature_lag_6',\n",
       " 'Temperature_lag_5',\n",
       " 'Temperature_lag_4',\n",
       " 'Temperature_lag_3',\n",
       " 'Temperature_lag_2',\n",
       " 'Temperature_lag_1',\n",
       " 'Fuel_Price_lag_12',\n",
       " 'Fuel_Price_lag_11',\n",
       " 'Fuel_Price_lag_10',\n",
       " 'Fuel_Price_lag_9',\n",
       " 'Fuel_Price_lag_8',\n",
       " 'Fuel_Price_lag_7',\n",
       " 'Fuel_Price_lag_6',\n",
       " 'Fuel_Price_lag_5',\n",
       " 'Fuel_Price_lag_4',\n",
       " 'Fuel_Price_lag_3',\n",
       " 'Fuel_Price_lag_2',\n",
       " 'Fuel_Price_lag_1',\n",
       " 'CPI_lag_12',\n",
       " 'CPI_lag_11',\n",
       " 'CPI_lag_10',\n",
       " 'CPI_lag_9',\n",
       " 'CPI_lag_8',\n",
       " 'CPI_lag_7',\n",
       " 'CPI_lag_6',\n",
       " 'CPI_lag_5',\n",
       " 'CPI_lag_4',\n",
       " 'CPI_lag_3',\n",
       " 'CPI_lag_2',\n",
       " 'CPI_lag_1',\n",
       " 'Unemployment_lag_12',\n",
       " 'Unemployment_lag_11',\n",
       " 'Unemployment_lag_10',\n",
       " 'Unemployment_lag_9',\n",
       " 'Unemployment_lag_8',\n",
       " 'Unemployment_lag_7',\n",
       " 'Unemployment_lag_6',\n",
       " 'Unemployment_lag_5',\n",
       " 'Unemployment_lag_4',\n",
       " 'Unemployment_lag_3',\n",
       " 'Unemployment_lag_2',\n",
       " 'Unemployment_lag_1',\n",
       " 'MarkDown1_lag_12',\n",
       " 'MarkDown1_lag_11',\n",
       " 'MarkDown1_lag_10',\n",
       " 'MarkDown1_lag_9',\n",
       " 'MarkDown1_lag_8',\n",
       " 'MarkDown1_lag_7',\n",
       " 'MarkDown1_lag_6',\n",
       " 'MarkDown1_lag_5',\n",
       " 'MarkDown1_lag_4',\n",
       " 'MarkDown1_lag_3',\n",
       " 'MarkDown1_lag_2',\n",
       " 'MarkDown1_lag_1',\n",
       " 'MarkDown2_lag_12',\n",
       " 'MarkDown2_lag_11',\n",
       " 'MarkDown2_lag_10',\n",
       " 'MarkDown2_lag_9',\n",
       " 'MarkDown2_lag_8',\n",
       " 'MarkDown2_lag_7',\n",
       " 'MarkDown2_lag_6',\n",
       " 'MarkDown2_lag_5',\n",
       " 'MarkDown2_lag_4',\n",
       " 'MarkDown2_lag_3',\n",
       " 'MarkDown2_lag_2',\n",
       " 'MarkDown2_lag_1',\n",
       " 'MarkDown3_lag_12',\n",
       " 'MarkDown3_lag_11',\n",
       " 'MarkDown3_lag_10',\n",
       " 'MarkDown3_lag_9',\n",
       " 'MarkDown3_lag_8',\n",
       " 'MarkDown3_lag_7',\n",
       " 'MarkDown3_lag_6',\n",
       " 'MarkDown3_lag_5',\n",
       " 'MarkDown3_lag_4',\n",
       " 'MarkDown3_lag_3',\n",
       " 'MarkDown3_lag_2',\n",
       " 'MarkDown3_lag_1',\n",
       " 'MarkDown4_lag_12',\n",
       " 'MarkDown4_lag_11',\n",
       " 'MarkDown4_lag_10',\n",
       " 'MarkDown4_lag_9',\n",
       " 'MarkDown4_lag_8',\n",
       " 'MarkDown4_lag_7',\n",
       " 'MarkDown4_lag_6',\n",
       " 'MarkDown4_lag_5',\n",
       " 'MarkDown4_lag_4',\n",
       " 'MarkDown4_lag_3',\n",
       " 'MarkDown4_lag_2',\n",
       " 'MarkDown4_lag_1',\n",
       " 'MarkDown5_lag_12',\n",
       " 'MarkDown5_lag_11',\n",
       " 'MarkDown5_lag_10',\n",
       " 'MarkDown5_lag_9',\n",
       " 'MarkDown5_lag_8',\n",
       " 'MarkDown5_lag_7',\n",
       " 'MarkDown5_lag_6',\n",
       " 'MarkDown5_lag_5',\n",
       " 'MarkDown5_lag_4',\n",
       " 'MarkDown5_lag_3',\n",
       " 'MarkDown5_lag_2',\n",
       " 'MarkDown5_lag_1']"
      ]
     },
     "execution_count": 5,
     "metadata": {},
     "output_type": "execute_result"
    }
   ],
   "source": [
    "list(dataset.full.columns)"
   ]
  },
  {
   "cell_type": "code",
   "execution_count": 6,
   "id": "7b6df799-c17f-4509-812b-1a2df8bacb9d",
   "metadata": {},
   "outputs": [
    {
     "data": {
      "text/html": [
       "<div>\n",
       "<style scoped>\n",
       "    .dataframe tbody tr th:only-of-type {\n",
       "        vertical-align: middle;\n",
       "    }\n",
       "\n",
       "    .dataframe tbody tr th {\n",
       "        vertical-align: top;\n",
       "    }\n",
       "\n",
       "    .dataframe thead th {\n",
       "        text-align: right;\n",
       "    }\n",
       "</style>\n",
       "<table border=\"1\" class=\"dataframe\">\n",
       "  <thead>\n",
       "    <tr style=\"text-align: right;\">\n",
       "      <th></th>\n",
       "      <th>Store</th>\n",
       "      <th>Dept</th>\n",
       "      <th>lag_12</th>\n",
       "      <th>lag_11</th>\n",
       "      <th>lag_10</th>\n",
       "      <th>lag_9</th>\n",
       "      <th>lag_8</th>\n",
       "      <th>lag_7</th>\n",
       "      <th>lag_6</th>\n",
       "      <th>lag_5</th>\n",
       "      <th>...</th>\n",
       "      <th>MarkDown5_lag_10</th>\n",
       "      <th>MarkDown5_lag_9</th>\n",
       "      <th>MarkDown5_lag_8</th>\n",
       "      <th>MarkDown5_lag_7</th>\n",
       "      <th>MarkDown5_lag_6</th>\n",
       "      <th>MarkDown5_lag_5</th>\n",
       "      <th>MarkDown5_lag_4</th>\n",
       "      <th>MarkDown5_lag_3</th>\n",
       "      <th>MarkDown5_lag_2</th>\n",
       "      <th>MarkDown5_lag_1</th>\n",
       "    </tr>\n",
       "  </thead>\n",
       "  <tbody>\n",
       "    <tr>\n",
       "      <th>0</th>\n",
       "      <td>1</td>\n",
       "      <td>1</td>\n",
       "      <td>24924.50</td>\n",
       "      <td>46039.49</td>\n",
       "      <td>41595.55</td>\n",
       "      <td>19403.54</td>\n",
       "      <td>21827.90</td>\n",
       "      <td>21043.39</td>\n",
       "      <td>22136.64</td>\n",
       "      <td>26229.21</td>\n",
       "      <td>...</td>\n",
       "      <td>NaN</td>\n",
       "      <td>NaN</td>\n",
       "      <td>NaN</td>\n",
       "      <td>NaN</td>\n",
       "      <td>NaN</td>\n",
       "      <td>NaN</td>\n",
       "      <td>NaN</td>\n",
       "      <td>NaN</td>\n",
       "      <td>NaN</td>\n",
       "      <td>NaN</td>\n",
       "    </tr>\n",
       "    <tr>\n",
       "      <th>1</th>\n",
       "      <td>1</td>\n",
       "      <td>1</td>\n",
       "      <td>24924.50</td>\n",
       "      <td>46039.49</td>\n",
       "      <td>41595.55</td>\n",
       "      <td>19403.54</td>\n",
       "      <td>21827.90</td>\n",
       "      <td>21043.39</td>\n",
       "      <td>22136.64</td>\n",
       "      <td>26229.21</td>\n",
       "      <td>...</td>\n",
       "      <td>NaN</td>\n",
       "      <td>NaN</td>\n",
       "      <td>NaN</td>\n",
       "      <td>NaN</td>\n",
       "      <td>NaN</td>\n",
       "      <td>NaN</td>\n",
       "      <td>NaN</td>\n",
       "      <td>NaN</td>\n",
       "      <td>NaN</td>\n",
       "      <td>NaN</td>\n",
       "    </tr>\n",
       "    <tr>\n",
       "      <th>2</th>\n",
       "      <td>1</td>\n",
       "      <td>1</td>\n",
       "      <td>24924.50</td>\n",
       "      <td>46039.49</td>\n",
       "      <td>41595.55</td>\n",
       "      <td>19403.54</td>\n",
       "      <td>21827.90</td>\n",
       "      <td>21043.39</td>\n",
       "      <td>22136.64</td>\n",
       "      <td>26229.21</td>\n",
       "      <td>...</td>\n",
       "      <td>NaN</td>\n",
       "      <td>NaN</td>\n",
       "      <td>NaN</td>\n",
       "      <td>NaN</td>\n",
       "      <td>NaN</td>\n",
       "      <td>NaN</td>\n",
       "      <td>NaN</td>\n",
       "      <td>NaN</td>\n",
       "      <td>NaN</td>\n",
       "      <td>NaN</td>\n",
       "    </tr>\n",
       "    <tr>\n",
       "      <th>3</th>\n",
       "      <td>1</td>\n",
       "      <td>1</td>\n",
       "      <td>24924.50</td>\n",
       "      <td>46039.49</td>\n",
       "      <td>41595.55</td>\n",
       "      <td>19403.54</td>\n",
       "      <td>21827.90</td>\n",
       "      <td>21043.39</td>\n",
       "      <td>22136.64</td>\n",
       "      <td>26229.21</td>\n",
       "      <td>...</td>\n",
       "      <td>NaN</td>\n",
       "      <td>NaN</td>\n",
       "      <td>NaN</td>\n",
       "      <td>NaN</td>\n",
       "      <td>NaN</td>\n",
       "      <td>NaN</td>\n",
       "      <td>NaN</td>\n",
       "      <td>NaN</td>\n",
       "      <td>NaN</td>\n",
       "      <td>NaN</td>\n",
       "    </tr>\n",
       "    <tr>\n",
       "      <th>4</th>\n",
       "      <td>1</td>\n",
       "      <td>2</td>\n",
       "      <td>50605.27</td>\n",
       "      <td>44682.74</td>\n",
       "      <td>47928.89</td>\n",
       "      <td>44292.87</td>\n",
       "      <td>48397.98</td>\n",
       "      <td>43751.94</td>\n",
       "      <td>43615.49</td>\n",
       "      <td>41892.55</td>\n",
       "      <td>...</td>\n",
       "      <td>NaN</td>\n",
       "      <td>NaN</td>\n",
       "      <td>NaN</td>\n",
       "      <td>NaN</td>\n",
       "      <td>NaN</td>\n",
       "      <td>NaN</td>\n",
       "      <td>NaN</td>\n",
       "      <td>NaN</td>\n",
       "      <td>NaN</td>\n",
       "      <td>NaN</td>\n",
       "    </tr>\n",
       "  </tbody>\n",
       "</table>\n",
       "<p>5 rows × 129 columns</p>\n",
       "</div>"
      ],
      "text/plain": [
       "   Store  Dept    lag_12    lag_11    lag_10     lag_9     lag_8     lag_7   \n",
       "0      1     1  24924.50  46039.49  41595.55  19403.54  21827.90  21043.39  \\\n",
       "1      1     1  24924.50  46039.49  41595.55  19403.54  21827.90  21043.39   \n",
       "2      1     1  24924.50  46039.49  41595.55  19403.54  21827.90  21043.39   \n",
       "3      1     1  24924.50  46039.49  41595.55  19403.54  21827.90  21043.39   \n",
       "4      1     2  50605.27  44682.74  47928.89  44292.87  48397.98  43751.94   \n",
       "\n",
       "      lag_6     lag_5  ...  MarkDown5_lag_10  MarkDown5_lag_9   \n",
       "0  22136.64  26229.21  ...               NaN              NaN  \\\n",
       "1  22136.64  26229.21  ...               NaN              NaN   \n",
       "2  22136.64  26229.21  ...               NaN              NaN   \n",
       "3  22136.64  26229.21  ...               NaN              NaN   \n",
       "4  43615.49  41892.55  ...               NaN              NaN   \n",
       "\n",
       "   MarkDown5_lag_8  MarkDown5_lag_7  MarkDown5_lag_6  MarkDown5_lag_5   \n",
       "0              NaN              NaN              NaN              NaN  \\\n",
       "1              NaN              NaN              NaN              NaN   \n",
       "2              NaN              NaN              NaN              NaN   \n",
       "3              NaN              NaN              NaN              NaN   \n",
       "4              NaN              NaN              NaN              NaN   \n",
       "\n",
       "  MarkDown5_lag_4 MarkDown5_lag_3  MarkDown5_lag_2 MarkDown5_lag_1  \n",
       "0             NaN             NaN              NaN             NaN  \n",
       "1             NaN             NaN              NaN             NaN  \n",
       "2             NaN             NaN              NaN             NaN  \n",
       "3             NaN             NaN              NaN             NaN  \n",
       "4             NaN             NaN              NaN             NaN  \n",
       "\n",
       "[5 rows x 129 columns]"
      ]
     },
     "execution_count": 6,
     "metadata": {},
     "output_type": "execute_result"
    }
   ],
   "source": [
    "dataset.full.head()"
   ]
  },
  {
   "cell_type": "code",
   "execution_count": 7,
   "id": "9aee4c68-0c32-4738-a01e-3120ba7bebc4",
   "metadata": {},
   "outputs": [
    {
     "name": "stdout",
     "output_type": "stream",
     "text": [
      "<class 'pandas.core.frame.DataFrame'>\n",
      "RangeIndex: 1384594 entries, 0 to 1384593\n",
      "Columns: 129 entries, Store to MarkDown5_lag_1\n",
      "dtypes: bool(1), datetime64[ns](2), float64(122), int64(3), object(1)\n",
      "memory usage: 1.3+ GB\n"
     ]
    }
   ],
   "source": [
    "dataset.full.info()"
   ]
  },
  {
   "cell_type": "code",
   "execution_count": 8,
   "id": "0b86f7dc-1e83-42ac-b754-14db42d342b5",
   "metadata": {},
   "outputs": [
    {
     "data": {
      "text/plain": [
       "Index(['lag_12', 'lag_11', 'lag_10', 'lag_9', 'lag_8', 'lag_7', 'lag_6',\n",
       "       'lag_5', 'lag_4', 'lag_3', 'lag_2', 'lag_1', 'horizon', 'store_size',\n",
       "       'store_type_A', 'store_type_B', 'is_holiday', 'targeted_week_number',\n",
       "       'forecast_week_number', 'delta_11', 'delta_10', 'delta_9', 'delta_8',\n",
       "       'delta_7', 'delta_6', 'delta_5', 'delta_4', 'delta_3', 'delta_2',\n",
       "       'delta_1', 'temperature_delta', 'fuel_price_delta', 'cpi_delta',\n",
       "       'unemployment_delta', 'markdown1_lag_1', 'markdown2_lag_1',\n",
       "       'markdown3_lag_1', 'markdown4_lag_1', 'markdown5_lag_1'],\n",
       "      dtype='object')"
      ]
     },
     "execution_count": 8,
     "metadata": {},
     "output_type": "execute_result"
    }
   ],
   "source": [
    "X = WalmartDataTransformer().fit_transform(dataset.full)[0]\n",
    "X.columns"
   ]
  },
  {
   "cell_type": "code",
   "execution_count": 9,
   "id": "80a216d3-3676-4994-8c64-dfac22ad3e6c",
   "metadata": {},
   "outputs": [
    {
     "data": {
      "text/html": [
       "<div>\n",
       "<style scoped>\n",
       "    .dataframe tbody tr th:only-of-type {\n",
       "        vertical-align: middle;\n",
       "    }\n",
       "\n",
       "    .dataframe tbody tr th {\n",
       "        vertical-align: top;\n",
       "    }\n",
       "\n",
       "    .dataframe thead th {\n",
       "        text-align: right;\n",
       "    }\n",
       "</style>\n",
       "<table border=\"1\" class=\"dataframe\">\n",
       "  <thead>\n",
       "    <tr style=\"text-align: right;\">\n",
       "      <th></th>\n",
       "      <th>lag_12</th>\n",
       "      <th>lag_11</th>\n",
       "      <th>lag_10</th>\n",
       "      <th>lag_9</th>\n",
       "      <th>lag_8</th>\n",
       "      <th>lag_7</th>\n",
       "      <th>lag_6</th>\n",
       "      <th>lag_5</th>\n",
       "      <th>lag_4</th>\n",
       "      <th>lag_3</th>\n",
       "      <th>...</th>\n",
       "      <th>delta_1</th>\n",
       "      <th>temperature_delta</th>\n",
       "      <th>fuel_price_delta</th>\n",
       "      <th>cpi_delta</th>\n",
       "      <th>unemployment_delta</th>\n",
       "      <th>markdown1_lag_1</th>\n",
       "      <th>markdown2_lag_1</th>\n",
       "      <th>markdown3_lag_1</th>\n",
       "      <th>markdown4_lag_1</th>\n",
       "      <th>markdown5_lag_1</th>\n",
       "    </tr>\n",
       "  </thead>\n",
       "  <tbody>\n",
       "    <tr>\n",
       "      <th>0</th>\n",
       "      <td>24924.50</td>\n",
       "      <td>46039.49</td>\n",
       "      <td>41595.55</td>\n",
       "      <td>19403.54</td>\n",
       "      <td>21827.90</td>\n",
       "      <td>21043.39</td>\n",
       "      <td>22136.64</td>\n",
       "      <td>26229.21</td>\n",
       "      <td>57258.43</td>\n",
       "      <td>42960.91</td>\n",
       "      <td>...</td>\n",
       "      <td>-1451.61</td>\n",
       "      <td>1.48</td>\n",
       "      <td>0.013</td>\n",
       "      <td>0.049577</td>\n",
       "      <td>0.0</td>\n",
       "      <td>0.0</td>\n",
       "      <td>0.0</td>\n",
       "      <td>0.0</td>\n",
       "      <td>0.0</td>\n",
       "      <td>0.0</td>\n",
       "    </tr>\n",
       "    <tr>\n",
       "      <th>1</th>\n",
       "      <td>24924.50</td>\n",
       "      <td>46039.49</td>\n",
       "      <td>41595.55</td>\n",
       "      <td>19403.54</td>\n",
       "      <td>21827.90</td>\n",
       "      <td>21043.39</td>\n",
       "      <td>22136.64</td>\n",
       "      <td>26229.21</td>\n",
       "      <td>57258.43</td>\n",
       "      <td>42960.91</td>\n",
       "      <td>...</td>\n",
       "      <td>-1451.61</td>\n",
       "      <td>1.48</td>\n",
       "      <td>0.013</td>\n",
       "      <td>0.049577</td>\n",
       "      <td>0.0</td>\n",
       "      <td>0.0</td>\n",
       "      <td>0.0</td>\n",
       "      <td>0.0</td>\n",
       "      <td>0.0</td>\n",
       "      <td>0.0</td>\n",
       "    </tr>\n",
       "    <tr>\n",
       "      <th>2</th>\n",
       "      <td>24924.50</td>\n",
       "      <td>46039.49</td>\n",
       "      <td>41595.55</td>\n",
       "      <td>19403.54</td>\n",
       "      <td>21827.90</td>\n",
       "      <td>21043.39</td>\n",
       "      <td>22136.64</td>\n",
       "      <td>26229.21</td>\n",
       "      <td>57258.43</td>\n",
       "      <td>42960.91</td>\n",
       "      <td>...</td>\n",
       "      <td>-1451.61</td>\n",
       "      <td>1.48</td>\n",
       "      <td>0.013</td>\n",
       "      <td>0.049577</td>\n",
       "      <td>0.0</td>\n",
       "      <td>0.0</td>\n",
       "      <td>0.0</td>\n",
       "      <td>0.0</td>\n",
       "      <td>0.0</td>\n",
       "      <td>0.0</td>\n",
       "    </tr>\n",
       "    <tr>\n",
       "      <th>3</th>\n",
       "      <td>24924.50</td>\n",
       "      <td>46039.49</td>\n",
       "      <td>41595.55</td>\n",
       "      <td>19403.54</td>\n",
       "      <td>21827.90</td>\n",
       "      <td>21043.39</td>\n",
       "      <td>22136.64</td>\n",
       "      <td>26229.21</td>\n",
       "      <td>57258.43</td>\n",
       "      <td>42960.91</td>\n",
       "      <td>...</td>\n",
       "      <td>-1451.61</td>\n",
       "      <td>1.48</td>\n",
       "      <td>0.013</td>\n",
       "      <td>0.049577</td>\n",
       "      <td>0.0</td>\n",
       "      <td>0.0</td>\n",
       "      <td>0.0</td>\n",
       "      <td>0.0</td>\n",
       "      <td>0.0</td>\n",
       "      <td>0.0</td>\n",
       "    </tr>\n",
       "    <tr>\n",
       "      <th>4</th>\n",
       "      <td>50605.27</td>\n",
       "      <td>44682.74</td>\n",
       "      <td>47928.89</td>\n",
       "      <td>44292.87</td>\n",
       "      <td>48397.98</td>\n",
       "      <td>43751.94</td>\n",
       "      <td>43615.49</td>\n",
       "      <td>41892.55</td>\n",
       "      <td>47450.50</td>\n",
       "      <td>46549.73</td>\n",
       "      <td>...</td>\n",
       "      <td>-606.91</td>\n",
       "      <td>1.48</td>\n",
       "      <td>0.013</td>\n",
       "      <td>0.049577</td>\n",
       "      <td>0.0</td>\n",
       "      <td>0.0</td>\n",
       "      <td>0.0</td>\n",
       "      <td>0.0</td>\n",
       "      <td>0.0</td>\n",
       "      <td>0.0</td>\n",
       "    </tr>\n",
       "  </tbody>\n",
       "</table>\n",
       "<p>5 rows × 39 columns</p>\n",
       "</div>"
      ],
      "text/plain": [
       "     lag_12    lag_11    lag_10     lag_9     lag_8     lag_7     lag_6   \n",
       "0  24924.50  46039.49  41595.55  19403.54  21827.90  21043.39  22136.64  \\\n",
       "1  24924.50  46039.49  41595.55  19403.54  21827.90  21043.39  22136.64   \n",
       "2  24924.50  46039.49  41595.55  19403.54  21827.90  21043.39  22136.64   \n",
       "3  24924.50  46039.49  41595.55  19403.54  21827.90  21043.39  22136.64   \n",
       "4  50605.27  44682.74  47928.89  44292.87  48397.98  43751.94  43615.49   \n",
       "\n",
       "      lag_5     lag_4     lag_3  ...  delta_1  temperature_delta   \n",
       "0  26229.21  57258.43  42960.91  ... -1451.61               1.48  \\\n",
       "1  26229.21  57258.43  42960.91  ... -1451.61               1.48   \n",
       "2  26229.21  57258.43  42960.91  ... -1451.61               1.48   \n",
       "3  26229.21  57258.43  42960.91  ... -1451.61               1.48   \n",
       "4  41892.55  47450.50  46549.73  ...  -606.91               1.48   \n",
       "\n",
       "   fuel_price_delta  cpi_delta  unemployment_delta  markdown1_lag_1   \n",
       "0             0.013   0.049577                 0.0              0.0  \\\n",
       "1             0.013   0.049577                 0.0              0.0   \n",
       "2             0.013   0.049577                 0.0              0.0   \n",
       "3             0.013   0.049577                 0.0              0.0   \n",
       "4             0.013   0.049577                 0.0              0.0   \n",
       "\n",
       "   markdown2_lag_1  markdown3_lag_1  markdown4_lag_1  markdown5_lag_1  \n",
       "0              0.0              0.0              0.0              0.0  \n",
       "1              0.0              0.0              0.0              0.0  \n",
       "2              0.0              0.0              0.0              0.0  \n",
       "3              0.0              0.0              0.0              0.0  \n",
       "4              0.0              0.0              0.0              0.0  \n",
       "\n",
       "[5 rows x 39 columns]"
      ]
     },
     "execution_count": 9,
     "metadata": {},
     "output_type": "execute_result"
    }
   ],
   "source": [
    "X.head()"
   ]
  },
  {
   "cell_type": "markdown",
   "id": "ecea5b6a-10c8-43f3-8578-944881311b8c",
   "metadata": {},
   "source": [
    "# Validation and hyperparameter search"
   ]
  },
  {
   "cell_type": "code",
   "execution_count": 10,
   "id": "f74ce87e-b5f0-468d-93b6-a2ac4198fd92",
   "metadata": {},
   "outputs": [],
   "source": [
    "def score(params):\n",
    "    params[\"n_estimators\"] = int(params[\"n_estimators\"])\n",
    "    params[\"max_depth\"] = int(params[\"max_depth\"])\n",
    "    params[\"min_child_samples\"] = int(params[\"min_child_samples\"])\n",
    "    lgbm_regressor = LGBMRegressor(**params)\n",
    "    transformer = WalmartDataTransformer()\n",
    "    error, _ = validate(\n",
    "        dataset.val_ts_split, WalmartLGBM(lgbm_regressor, transformer), smape\n",
    "    )\n",
    "    print(\"SMAPE {0}\".format(error))\n",
    "    return {\"loss\": error, \"status\": STATUS_OK}"
   ]
  },
  {
   "cell_type": "code",
   "execution_count": 11,
   "id": "9966a789-05dd-4dec-be60-19d2c823860f",
   "metadata": {},
   "outputs": [
    {
     "name": "stdout",
     "output_type": "stream",
     "text": [
      "SMAPE 17.239851033280083                                                                                                \n",
      "SMAPE 17.420484831543966                                                                                                \n",
      "SMAPE 18.88265535461739                                                                                                 \n",
      "SMAPE 16.746869718402728                                                                                                \n",
      "SMAPE 17.431362992339352                                                                                                \n",
      "SMAPE 16.72221175683993                                                                                                 \n",
      "SMAPE 16.240499379624644                                                                                                \n",
      "SMAPE 19.184455051792092                                                                                                \n",
      "SMAPE 18.29786598368328                                                                                                 \n",
      "SMAPE 18.09135154669512                                                                                                 \n",
      "SMAPE 16.419969737274272                                                                                                \n",
      "SMAPE 18.241486137622427                                                                                                \n",
      "SMAPE 17.84690288657791                                                                                                 \n",
      "SMAPE 18.552120228846785                                                                                                \n",
      "SMAPE 20.22248739170951                                                                                                 \n",
      "SMAPE 18.346937726610843                                                                                                \n",
      "SMAPE 16.23888440442875                                                                                                 \n",
      "SMAPE 20.11570063909701                                                                                                 \n",
      "SMAPE 16.725828669125395                                                                                                \n",
      "SMAPE 18.605013413807416                                                                                                \n",
      "100%|███████████████████████████████████████████████| 20/20 [1:12:57<00:00, 218.86s/trial, best loss: 16.23888440442875]\n"
     ]
    }
   ],
   "source": [
    "space = {\n",
    "    \"n_estimators\": hp.quniform(\"n_estimators\", 50, 300, 1),\n",
    "    \"learning_rate\": hp.loguniform(\"learning_rate\", np.log(0.01), np.log(0.1)),\n",
    "    \"max_depth\": hp.quniform(\"max_depth\", 2, 4, 1),\n",
    "    \"min_child_samples\": hp.quniform(\"min_child_samples\", 0, 100, 1),\n",
    "    \"reg_alpha\": hp.uniform(\"reg_alpha\", 0, 10),\n",
    "    \"reg_lambda\": hp.uniform(\"reg_lambda\", 0, 10),\n",
    "    \"colsample_bytree\": hp.uniform(\"colsample_bytree\", 0.5, 1),\n",
    "}\n",
    "best_params = fmin(\n",
    "    score, space, algo=tpe.suggest, max_evals=20, rstate=np.random.default_rng(42)\n",
    ")"
   ]
  },
  {
   "cell_type": "code",
   "execution_count": 12,
   "id": "17a1f338-fde7-4e5b-9f08-9c3fa2e528b2",
   "metadata": {},
   "outputs": [
    {
     "data": {
      "text/plain": [
       "{'colsample_bytree': 0.5045399812671432,\n",
       " 'learning_rate': 0.023137426169141273,\n",
       " 'max_depth': 3,\n",
       " 'min_child_samples': 45,\n",
       " 'n_estimators': 254,\n",
       " 'reg_alpha': 8.140834674473611,\n",
       " 'reg_lambda': 8.82267604974632}"
      ]
     },
     "execution_count": 12,
     "metadata": {},
     "output_type": "execute_result"
    }
   ],
   "source": [
    "best_params[\"n_estimators\"] = int(best_params[\"n_estimators\"])\n",
    "best_params[\"max_depth\"] = int(best_params[\"max_depth\"])\n",
    "best_params[\"min_child_samples\"] = int(best_params[\"min_child_samples\"])\n",
    "best_params"
   ]
  },
  {
   "cell_type": "markdown",
   "id": "ec62e5f3-9b5c-4e22-8eea-41f9e8aeb6ff",
   "metadata": {},
   "source": [
    "## Test"
   ]
  },
  {
   "cell_type": "code",
   "execution_count": 13,
   "id": "25d7cc55-d7e3-4e3a-844c-0eee2aef85f3",
   "metadata": {},
   "outputs": [],
   "source": [
    "lgbm_regressor = LGBMRegressor(**best_params)\n",
    "transformer = WalmartDataTransformer()\n",
    "model = WalmartLGBM(lgbm_regressor, transformer)"
   ]
  },
  {
   "cell_type": "code",
   "execution_count": 14,
   "id": "d257c1df-3a7d-4d5b-9cf5-417ba8feb9ee",
   "metadata": {},
   "outputs": [
    {
     "name": "stdout",
     "output_type": "stream",
     "text": [
      "Validating fold 1...\n",
      "Validating fold 2...\n",
      "Validating fold 3...\n",
      "Validating fold 4...\n",
      "Validating fold 5...\n",
      "Validating fold 6...\n",
      "Validating fold 7...\n",
      "Validating fold 8...\n",
      "Validating fold 9...\n",
      "Validating fold 10...\n",
      "Validating fold 11...\n",
      "Validating fold 12...\n"
     ]
    }
   ],
   "source": [
    "test_smape, df_test_with_preds = validate(dataset.test_ts_split, model, smape, verbose=True)"
   ]
  },
  {
   "cell_type": "code",
   "execution_count": 15,
   "id": "e947d003-d7c8-4195-8f93-ebcba41fcc53",
   "metadata": {},
   "outputs": [
    {
     "data": {
      "text/plain": [
       "19.01862109825387"
      ]
     },
     "execution_count": 15,
     "metadata": {},
     "output_type": "execute_result"
    }
   ],
   "source": [
    "test_smape"
   ]
  },
  {
   "cell_type": "code",
   "execution_count": 16,
   "id": "b81a5954-d6b8-47ec-914e-bf1cbc96081f",
   "metadata": {},
   "outputs": [
    {
     "data": {
      "text/html": [
       "<div>\n",
       "<style scoped>\n",
       "    .dataframe tbody tr th:only-of-type {\n",
       "        vertical-align: middle;\n",
       "    }\n",
       "\n",
       "    .dataframe tbody tr th {\n",
       "        vertical-align: top;\n",
       "    }\n",
       "\n",
       "    .dataframe thead th {\n",
       "        text-align: right;\n",
       "    }\n",
       "</style>\n",
       "<table border=\"1\" class=\"dataframe\">\n",
       "  <thead>\n",
       "    <tr style=\"text-align: right;\">\n",
       "      <th></th>\n",
       "      <th>smape</th>\n",
       "      <th>data points</th>\n",
       "      <th>departments</th>\n",
       "    </tr>\n",
       "    <tr>\n",
       "      <th>horizon</th>\n",
       "      <th></th>\n",
       "      <th></th>\n",
       "      <th></th>\n",
       "    </tr>\n",
       "  </thead>\n",
       "  <tbody>\n",
       "    <tr>\n",
       "      <th>1</th>\n",
       "      <td>16.196186</td>\n",
       "      <td>32113.0</td>\n",
       "      <td>2681.0</td>\n",
       "    </tr>\n",
       "    <tr>\n",
       "      <th>2</th>\n",
       "      <td>18.796056</td>\n",
       "      <td>29438.0</td>\n",
       "      <td>2681.0</td>\n",
       "    </tr>\n",
       "    <tr>\n",
       "      <th>3</th>\n",
       "      <td>20.443289</td>\n",
       "      <td>26762.0</td>\n",
       "      <td>2680.0</td>\n",
       "    </tr>\n",
       "    <tr>\n",
       "      <th>4</th>\n",
       "      <td>21.470741</td>\n",
       "      <td>24086.0</td>\n",
       "      <td>2679.0</td>\n",
       "    </tr>\n",
       "  </tbody>\n",
       "</table>\n",
       "</div>"
      ],
      "text/plain": [
       "             smape  data points  departments\n",
       "horizon                                     \n",
       "1        16.196186      32113.0       2681.0\n",
       "2        18.796056      29438.0       2681.0\n",
       "3        20.443289      26762.0       2680.0\n",
       "4        21.470741      24086.0       2679.0"
      ]
     },
     "execution_count": 16,
     "metadata": {},
     "output_type": "execute_result"
    }
   ],
   "source": [
    "smape_by_horizon = df_test_with_preds.groupby(\"horizon\").apply(\n",
    "    lambda x: pd.Series(\n",
    "        [smape(x.target, x.pred), len(x.target), len(x[[\"Store\", \"Dept\"]].drop_duplicates())], \n",
    "        index=[\"smape\", \"data points\", \"departments\"]\n",
    "    )\n",
    ").sort_index()\n",
    "smape_by_horizon"
   ]
  },
  {
   "cell_type": "code",
   "execution_count": 17,
   "id": "8e52e48c-197a-4adc-98ad-459cdf58b80c",
   "metadata": {},
   "outputs": [
    {
     "data": {
      "text/plain": [
       "<Axes: xlabel='horizon', ylabel='SMAPE'>"
      ]
     },
     "execution_count": 17,
     "metadata": {},
     "output_type": "execute_result"
    },
    {
     "data": {
      "image/png": "[encoded data removed]",
      "text/plain": [
       "<Figure size 640x480 with 1 Axes>"
      ]
     },
     "metadata": {},
     "output_type": "display_data"
    }
   ],
   "source": [
    "plt.ylabel(\"SMAPE\")\n",
    "smape_by_horizon[\"smape\"].plot.bar()"
   ]
  },
  {
   "cell_type": "code",
   "execution_count": 18,
   "id": "aed89107-73c6-4988-9438-eac827c60937",
   "metadata": {},
   "outputs": [
    {
     "data": {
      "text/html": [
       "<div>\n",
       "<style scoped>\n",
       "    .dataframe tbody tr th:only-of-type {\n",
       "        vertical-align: middle;\n",
       "    }\n",
       "\n",
       "    .dataframe tbody tr th {\n",
       "        vertical-align: top;\n",
       "    }\n",
       "\n",
       "    .dataframe thead th {\n",
       "        text-align: right;\n",
       "    }\n",
       "</style>\n",
       "<table border=\"1\" class=\"dataframe\">\n",
       "  <thead>\n",
       "    <tr style=\"text-align: right;\">\n",
       "      <th></th>\n",
       "      <th>smape</th>\n",
       "      <th>data points</th>\n",
       "      <th>departments</th>\n",
       "    </tr>\n",
       "    <tr>\n",
       "      <th>Dept</th>\n",
       "      <th></th>\n",
       "      <th></th>\n",
       "      <th></th>\n",
       "    </tr>\n",
       "  </thead>\n",
       "  <tbody>\n",
       "    <tr>\n",
       "      <th>8</th>\n",
       "      <td>4.478668</td>\n",
       "      <td>1890.0</td>\n",
       "      <td>45.0</td>\n",
       "    </tr>\n",
       "    <tr>\n",
       "      <th>40</th>\n",
       "      <td>4.787891</td>\n",
       "      <td>1890.0</td>\n",
       "      <td>45.0</td>\n",
       "    </tr>\n",
       "    <tr>\n",
       "      <th>90</th>\n",
       "      <td>5.444486</td>\n",
       "      <td>1890.0</td>\n",
       "      <td>45.0</td>\n",
       "    </tr>\n",
       "    <tr>\n",
       "      <th>94</th>\n",
       "      <td>5.632668</td>\n",
       "      <td>1176.0</td>\n",
       "      <td>28.0</td>\n",
       "    </tr>\n",
       "    <tr>\n",
       "      <th>13</th>\n",
       "      <td>6.073131</td>\n",
       "      <td>1890.0</td>\n",
       "      <td>45.0</td>\n",
       "    </tr>\n",
       "    <tr>\n",
       "      <th>...</th>\n",
       "      <td>...</td>\n",
       "      <td>...</td>\n",
       "      <td>...</td>\n",
       "    </tr>\n",
       "    <tr>\n",
       "      <th>59</th>\n",
       "      <td>51.743398</td>\n",
       "      <td>1428.0</td>\n",
       "      <td>34.0</td>\n",
       "    </tr>\n",
       "    <tr>\n",
       "      <th>36</th>\n",
       "      <td>59.429428</td>\n",
       "      <td>1512.0</td>\n",
       "      <td>36.0</td>\n",
       "    </tr>\n",
       "    <tr>\n",
       "      <th>54</th>\n",
       "      <td>122.837689</td>\n",
       "      <td>42.0</td>\n",
       "      <td>1.0</td>\n",
       "    </tr>\n",
       "    <tr>\n",
       "      <th>39</th>\n",
       "      <td>144.992999</td>\n",
       "      <td>36.0</td>\n",
       "      <td>1.0</td>\n",
       "    </tr>\n",
       "    <tr>\n",
       "      <th>99</th>\n",
       "      <td>161.855867</td>\n",
       "      <td>11.0</td>\n",
       "      <td>3.0</td>\n",
       "    </tr>\n",
       "  </tbody>\n",
       "</table>\n",
       "<p>74 rows × 3 columns</p>\n",
       "</div>"
      ],
      "text/plain": [
       "           smape  data points  departments\n",
       "Dept                                      \n",
       "8       4.478668       1890.0         45.0\n",
       "40      4.787891       1890.0         45.0\n",
       "90      5.444486       1890.0         45.0\n",
       "94      5.632668       1176.0         28.0\n",
       "13      6.073131       1890.0         45.0\n",
       "...          ...          ...          ...\n",
       "59     51.743398       1428.0         34.0\n",
       "36     59.429428       1512.0         36.0\n",
       "54    122.837689         42.0          1.0\n",
       "39    144.992999         36.0          1.0\n",
       "99    161.855867         11.0          3.0\n",
       "\n",
       "[74 rows x 3 columns]"
      ]
     },
     "execution_count": 18,
     "metadata": {},
     "output_type": "execute_result"
    }
   ],
   "source": [
    "smape_by_department = df_test_with_preds.groupby(\"Dept\").apply(\n",
    "    lambda x: pd.Series(\n",
    "        [smape(x.target, x.pred), len(x.target), len(x[[\"Store\", \"Dept\"]].drop_duplicates())], \n",
    "        index=[\"smape\", \"data points\", \"departments\"]\n",
    "    )\n",
    ").sort_values(\"smape\")\n",
    "smape_by_department"
   ]
  },
  {
   "cell_type": "code",
   "execution_count": 19,
   "id": "05ed1189-1868-48e1-a47e-bcc8e68e9048",
   "metadata": {},
   "outputs": [
    {
     "data": {
      "text/plain": [
       "<Axes: xlabel='Dept', ylabel='SMAPE'>"
      ]
     },
     "execution_count": 19,
     "metadata": {},
     "output_type": "execute_result"
    },
    {
     "data": {
      "image/png": "[encoded data removed]",
      "text/plain": [
       "<Figure size 1600x600 with 1 Axes>"
      ]
     },
     "metadata": {},
     "output_type": "display_data"
    }
   ],
   "source": [
    "plt.figure(figsize=(16,6))\n",
    "plt.ylabel(\"SMAPE\")\n",
    "smape_by_department[\"smape\"].sort_index().plot.bar()"
   ]
  },
  {
   "cell_type": "code",
   "execution_count": 20,
   "id": "bb120241-399a-41c2-9b00-27666d5e7ec2",
   "metadata": {},
   "outputs": [
    {
     "data": {
      "text/html": [
       "<div>\n",
       "<style scoped>\n",
       "    .dataframe tbody tr th:only-of-type {\n",
       "        vertical-align: middle;\n",
       "    }\n",
       "\n",
       "    .dataframe tbody tr th {\n",
       "        vertical-align: top;\n",
       "    }\n",
       "\n",
       "    .dataframe thead th {\n",
       "        text-align: right;\n",
       "    }\n",
       "</style>\n",
       "<table border=\"1\" class=\"dataframe\">\n",
       "  <thead>\n",
       "    <tr style=\"text-align: right;\">\n",
       "      <th></th>\n",
       "      <th>smape</th>\n",
       "      <th>data points</th>\n",
       "      <th>departments</th>\n",
       "    </tr>\n",
       "    <tr>\n",
       "      <th>forecast_week</th>\n",
       "      <th></th>\n",
       "      <th></th>\n",
       "      <th></th>\n",
       "    </tr>\n",
       "  </thead>\n",
       "  <tbody>\n",
       "    <tr>\n",
       "      <th>2012-08-03</th>\n",
       "      <td>16.130067</td>\n",
       "      <td>10703.0</td>\n",
       "      <td>2678.0</td>\n",
       "    </tr>\n",
       "    <tr>\n",
       "      <th>2012-08-10</th>\n",
       "      <td>19.774277</td>\n",
       "      <td>10704.0</td>\n",
       "      <td>2678.0</td>\n",
       "    </tr>\n",
       "    <tr>\n",
       "      <th>2012-08-17</th>\n",
       "      <td>21.065494</td>\n",
       "      <td>10706.0</td>\n",
       "      <td>2679.0</td>\n",
       "    </tr>\n",
       "    <tr>\n",
       "      <th>2012-08-24</th>\n",
       "      <td>23.142537</td>\n",
       "      <td>10706.0</td>\n",
       "      <td>2678.0</td>\n",
       "    </tr>\n",
       "    <tr>\n",
       "      <th>2012-08-31</th>\n",
       "      <td>25.091091</td>\n",
       "      <td>10706.0</td>\n",
       "      <td>2678.0</td>\n",
       "    </tr>\n",
       "    <tr>\n",
       "      <th>2012-09-07</th>\n",
       "      <td>21.844352</td>\n",
       "      <td>10707.0</td>\n",
       "      <td>2679.0</td>\n",
       "    </tr>\n",
       "    <tr>\n",
       "      <th>2012-09-14</th>\n",
       "      <td>18.617092</td>\n",
       "      <td>10705.0</td>\n",
       "      <td>2677.0</td>\n",
       "    </tr>\n",
       "    <tr>\n",
       "      <th>2012-09-21</th>\n",
       "      <td>15.379020</td>\n",
       "      <td>10705.0</td>\n",
       "      <td>2677.0</td>\n",
       "    </tr>\n",
       "    <tr>\n",
       "      <th>2012-09-28</th>\n",
       "      <td>15.579442</td>\n",
       "      <td>10704.0</td>\n",
       "      <td>2677.0</td>\n",
       "    </tr>\n",
       "    <tr>\n",
       "      <th>2012-10-05</th>\n",
       "      <td>15.648193</td>\n",
       "      <td>8027.0</td>\n",
       "      <td>2676.0</td>\n",
       "    </tr>\n",
       "    <tr>\n",
       "      <th>2012-10-12</th>\n",
       "      <td>15.542500</td>\n",
       "      <td>5351.0</td>\n",
       "      <td>2676.0</td>\n",
       "    </tr>\n",
       "    <tr>\n",
       "      <th>2012-10-19</th>\n",
       "      <td>14.242785</td>\n",
       "      <td>2675.0</td>\n",
       "      <td>2675.0</td>\n",
       "    </tr>\n",
       "  </tbody>\n",
       "</table>\n",
       "</div>"
      ],
      "text/plain": [
       "                   smape  data points  departments\n",
       "forecast_week                                     \n",
       "2012-08-03     16.130067      10703.0       2678.0\n",
       "2012-08-10     19.774277      10704.0       2678.0\n",
       "2012-08-17     21.065494      10706.0       2679.0\n",
       "2012-08-24     23.142537      10706.0       2678.0\n",
       "2012-08-31     25.091091      10706.0       2678.0\n",
       "2012-09-07     21.844352      10707.0       2679.0\n",
       "2012-09-14     18.617092      10705.0       2677.0\n",
       "2012-09-21     15.379020      10705.0       2677.0\n",
       "2012-09-28     15.579442      10704.0       2677.0\n",
       "2012-10-05     15.648193       8027.0       2676.0\n",
       "2012-10-12     15.542500       5351.0       2676.0\n",
       "2012-10-19     14.242785       2675.0       2675.0"
      ]
     },
     "execution_count": 20,
     "metadata": {},
     "output_type": "execute_result"
    }
   ],
   "source": [
    "smape_by_forecast_week = df_test_with_preds.groupby(\"forecast_week\").apply(\n",
    "    lambda x: pd.Series(\n",
    "        [smape(x.target, x.pred), len(x.target), len(x[[\"Store\", \"Dept\"]].drop_duplicates())], \n",
    "        index=[\"smape\", \"data points\", \"departments\"]\n",
    "    )\n",
    ").sort_index()\n",
    "smape_by_forecast_week"
   ]
  },
  {
   "cell_type": "code",
   "execution_count": 21,
   "id": "e6ae1d30-7a49-4afa-af7a-5f5a02aeccef",
   "metadata": {},
   "outputs": [
    {
     "data": {
      "text/plain": [
       "<Axes: xlabel='forecast_week'>"
      ]
     },
     "execution_count": 21,
     "metadata": {},
     "output_type": "execute_result"
    },
    {
     "data": {
      "image/png": "[encoded data removed]",
      "text/plain": [
       "<Figure size 640x480 with 1 Axes>"
      ]
     },
     "metadata": {},
     "output_type": "display_data"
    }
   ],
   "source": [
    "smape_by_forecast_week[\"smape\"].plot.bar()"
   ]
  },
  {
   "cell_type": "code",
   "execution_count": 22,
   "id": "b5bb277b-a363-4d02-a009-cdd85fa5c8e5",
   "metadata": {},
   "outputs": [
    {
     "data": {
      "image/png": "[encoded data removed]",
      "text/plain": [
       "<Figure size 640x480 with 1 Axes>"
      ]
     },
     "metadata": {},
     "output_type": "display_data"
    }
   ],
   "source": [
    "plot_forecast_vs_target(df_test_with_preds, 1, 1, \"2012-09-07\")"
   ]
  },
  {
   "cell_type": "code",
   "execution_count": 23,
   "id": "4fa6dc06-203b-4444-8a6b-d4cb1bb7af5c",
   "metadata": {},
   "outputs": [
    {
     "data": {
      "image/png": "[encoded data removed]",
      "text/plain": [
       "<Figure size 640x480 with 1 Axes>"
      ]
     },
     "metadata": {},
     "output_type": "display_data"
    }
   ],
   "source": [
    "plot_forecast_vs_target(df_test_with_preds, 3, 36, \"2012-09-07\")"
   ]
  },
  {
   "cell_type": "code",
   "execution_count": 24,
   "id": "a871a20f-15a1-4730-b894-5c955a2921b1",
   "metadata": {},
   "outputs": [
    {
     "data": {
      "image/png": "[encoded data removed]",
      "text/plain": [
       "<Figure size 640x480 with 1 Axes>"
      ]
     },
     "metadata": {},
     "output_type": "display_data"
    }
   ],
   "source": [
    "plot_forecast_vs_target(df_test_with_preds, 17, 99, \"2012-09-28\")"
   ]
  }
 ],
 "metadata": {
  "kernelspec": {
   "display_name": "Python 3 (ipykernel)",
   "language": "python",
   "name": "python3"
  },
  "language_info": {
   "codemirror_mode": {
    "name": "ipython",
    "version": 3
   },
   "file_extension": ".py",
   "mimetype": "text/x-python",
   "name": "python",
   "nbconvert_exporter": "python",
   "pygments_lexer": "ipython3",
   "version": "3.9.7"
  }
 },
 "nbformat": 4,
 "nbformat_minor": 5
}
